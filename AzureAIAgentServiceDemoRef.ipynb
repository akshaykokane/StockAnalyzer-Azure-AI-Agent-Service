{
 "cells": [
  {
   "cell_type": "code",
   "execution_count": null,
   "metadata": {
    "dotnet_interactive": {
     "language": "csharp"
    },
    "polyglot_notebook": {
     "kernelName": "csharp"
    }
   },
   "outputs": [
    {
     "data": {
      "text/html": [
       "<div><div></div><div></div><div><strong>Installed Packages</strong><ul><li><span>Azure.AI.Projects, 1.0.0-beta.4</span></li><li><span>Azure.Identity, 1.13.2</span></li></ul></div></div>"
      ]
     },
     "metadata": {},
     "output_type": "display_data"
    }
   ],
   "source": [
    "#r \"nuget: Azure.AI.Projects, 1.0.0-beta.4\"\n",
    "#r \"nuget: Azure.Identity\"\n",
    "//#r \"nuget: Microsoft.SemanticKernel.Agents.Core, 1.40.0-preview\"\n",
    "//#r \"nuget: Microsoft.SemanticKernel.Agents.AzureAI, 1.40.0-preview\""
   ]
  },
  {
   "cell_type": "code",
   "execution_count": null,
   "metadata": {
    "dotnet_interactive": {
     "language": "csharp"
    },
    "polyglot_notebook": {
     "kernelName": "csharp"
    }
   },
   "outputs": [],
   "source": [
    "using Azure;\n",
    "using Azure.AI.Projects;\n",
    "using Azure.Identity;\n",
    "using Microsoft.SemanticKernel;\n",
    "using Microsoft.SemanticKernel.Agents;\n",
    "using Microsoft.SemanticKernel.Agents.AzureAI;\n",
    "\n",
    "using System;\n",
    "using Agent = Azure.AI.Projects.Agent;\n"
   ]
  },
  {
   "cell_type": "code",
   "execution_count": null,
   "metadata": {
    "dotnet_interactive": {
     "language": "csharp"
    },
    "polyglot_notebook": {
     "kernelName": "csharp"
    }
   },
   "outputs": [],
   "source": [
    "var credential = new DefaultAzureCredential();\n",
    "string connectionString = \"<REPLACE WITH YOUR PROJECT CONNECTION STRING>\";\n",
    "var client = new AgentsClient(connectionString, credential);\n"
   ]
  },
  {
   "cell_type": "code",
   "execution_count": null,
   "metadata": {
    "dotnet_interactive": {
     "language": "csharp"
    },
    "polyglot_notebook": {
     "kernelName": "csharp"
    }
   },
   "outputs": [],
   "source": [
    "// Get the agent id from Azure Hub Portal\n",
    "string agentId = \"<REPLACE WITH AGENT ID>\";\n",
    "\n",
    "// Here were are getting the created agent. But you can also create a new agent using CreateAgentAsync method.\n",
    "Agent agent = await client.GetAgentAsync(agentId);"
   ]
  },
  {
   "cell_type": "code",
   "execution_count": null,
   "metadata": {
    "dotnet_interactive": {
     "language": "csharp"
    },
    "polyglot_notebook": {
     "kernelName": "csharp"
    }
   },
   "outputs": [],
   "source": [
    "// create thread and add message to the thread\n",
    "AgentThread thread = await client.CreateThreadAsync();\n",
    "\n",
    "// Add user message to the thread\n",
    "Response<ThreadMessage> messageResponse = await client.CreateMessageAsync(\n",
    "            thread.Id,\n",
    "            MessageRole.User,\n",
    "            \"How are earnings looks like as compared to last year for Microsoft?\");\n",
    "        ThreadMessage message = messageResponse.Value;\n"
   ]
  },
  {
   "cell_type": "code",
   "execution_count": null,
   "metadata": {},
   "outputs": [
    {
     "name": "stdout",
     "output_type": "stream",
     "text": [
      "2025-03-03 17:16:23 -  assistant: For Microsoft, the comparison of their earnings from the previous fiscal year to the most recent fiscal year shows robust growth across several key financial metrics:\n",
      "\n",
      "1. **Revenue** increased by $33.2 billion or 16%, from $211.9 billion in fiscal year 2023 to $245.1 billion in fiscal year 2024. This growth was driven by expansions in all primary segments, particularly Intelligent Cloud revenue driven by Azure and Productivity and Business Processes revenue driven by Office 365 Commercial【4:0†source】【4:18†source】.\n",
      "\n",
      "2. **Gross Margin** increased by $25.0 billion or 17%, climbing from $146.1 billion to $171.0 billion【4:0†source】.\n",
      "\n",
      "3. **Operating Income** rose by $20.9 billion or 24%, from $88.5 billion to $109.4 billion【4:0†source】【4:18†source】.\n",
      "\n",
      "4. **Net Income** grew by 22%, surging from $72.4 billion to $88.1 billion【4:0†source】【4:18†source】.\n",
      "\n",
      "5. **Diluted Earnings Per Share (EPS)** increased by 22%, from $9.68 to $11.80 per share【4:0†source】【4:18†source】.\n",
      "\n",
      "The growth in revenue and profitability was supported by several factors:\n",
      "- The Intelligent Cloud segment, which includes Azure, saw a substantial revenue increase of 20%.\n",
      "- Productivity and Business Processes revenue, driven by Office 365 Commercial, increased by 12%.\n",
      "- The More Personal Computing segment experienced a 13% revenue growth, significantly influenced by gaming revenues【4:18†source】【4:19†source】.\n",
      "\n",
      "The solid overall financial performance reflects Microsoft’s successful expansion and innovation in cloud services, productivity solutions, and gaming, despite challenges in certain areas like devices, which saw a decline【4:0†source】【4:15†source】.\n",
      "2025-03-03 17:16:16 -       user: How are earnings looks like as compared to last year for Microsoft?\n"
     ]
    }
   ],
   "source": [
    "// code reference - https://learn.microsoft.com/en-us/azure/ai-services/agents/quickstart?pivots=programming-language-csharp\n",
    "\n",
    "Response<PageableList<ThreadMessage>> messagesListResponse = await client.GetMessagesAsync(thread.Id);\n",
    "\n",
    "Response<ThreadRun> runResponse = await client.CreateRunAsync(\n",
    "            thread.Id,\n",
    "            agent.Id,\n",
    "            additionalInstructions: \"\");\n",
    "        ThreadRun run = runResponse.Value;\n",
    "\n",
    "        do\n",
    "        {\n",
    "            await Task.Delay(TimeSpan.FromMilliseconds(500));\n",
    "            runResponse = await client.GetRunAsync(thread.Id, runResponse.Value.Id);\n",
    "        }\n",
    "        while (runResponse.Value.Status == RunStatus.Queued\n",
    "            || runResponse.Value.Status == RunStatus.InProgress);\n",
    "\n",
    "        Response<PageableList<ThreadMessage>> afterRunMessagesResponse\n",
    "            = await client.GetMessagesAsync(thread.Id);\n",
    "        IReadOnlyList<ThreadMessage> messages = afterRunMessagesResponse.Value.Data;\n",
    "\n",
    "        foreach (ThreadMessage threadMessage in messages)\n",
    "        {\n",
    "            Console.Write($\"{threadMessage.CreatedAt:yyyy-MM-dd HH:mm:ss} - {threadMessage.Role,10}: \");\n",
    "            foreach (MessageContent contentItem in threadMessage.ContentItems)\n",
    "            {\n",
    "                if (contentItem is MessageTextContent textItem)\n",
    "                {\n",
    "                    Console.Write(textItem.Text);\n",
    "                }\n",
    "                else if (contentItem is MessageImageFileContent imageFileItem)\n",
    "                {\n",
    "                    Console.Write($\"<image from ID: {imageFileItem.FileId}\");\n",
    "                }\n",
    "                Console.WriteLine();\n",
    "            }\n",
    "        }"
   ]
  },
  {
   "cell_type": "code",
   "execution_count": null,
   "metadata": {},
   "outputs": [],
   "source": []
  }
 ],
 "metadata": {
  "kernelspec": {
   "display_name": ".NET (C#)",
   "language": "C#",
   "name": ".net-csharp"
  },
  "polyglot_notebook": {
   "kernelInfo": {
    "defaultKernelName": "csharp",
    "items": [
     {
      "aliases": [],
      "name": "csharp"
     }
    ]
   }
  }
 },
 "nbformat": 4,
 "nbformat_minor": 2
}
